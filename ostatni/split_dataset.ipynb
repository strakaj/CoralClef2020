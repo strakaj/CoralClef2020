{
 "cells": [
  {
   "cell_type": "code",
   "execution_count": 38,
   "metadata": {},
   "outputs": [],
   "source": [
    "import json\n",
    "import copy\n",
    "import re\n",
    "import matplotlib.pyplot as plt\n",
    "import pandas as pd\n",
    "import numpy as np"
   ]
  },
  {
   "cell_type": "code",
   "execution_count": 39,
   "metadata": {},
   "outputs": [],
   "source": [
    "# cesta k annotacim, pokud jsou data neaugmentovana druha cesta neni potreba\n",
    "annotation_path = '../CoralClef2020/annotations/annotation.json'\n",
    "augmented_annotation_path = '../CoralClef2020/annotations/annotation_augment.json'"
   ]
  },
  {
   "cell_type": "code",
   "execution_count": 40,
   "metadata": {},
   "outputs": [],
   "source": [
    "with open(annotation_path) as json_file:\n",
    "    data = json.load(json_file)"
   ]
  },
  {
   "cell_type": "code",
   "execution_count": 41,
   "metadata": {},
   "outputs": [],
   "source": [
    "images_all = dict()\n",
    "for i in data['images']:\n",
    "    images_all.update({i['id']: []})\n",
    "\n",
    "bb_cls_all = dict.fromkeys(tuple(range(13)), 0) \n",
    "\n",
    "for c in data['annotations']:\n",
    "    bb_cls_all[c['category_id']] += 1\n",
    "    images_all[c['image_id']].append(c['category_id'])\n",
    "\n",
    "    \n"
   ]
  },
  {
   "cell_type": "code",
   "execution_count": 42,
   "metadata": {},
   "outputs": [
    {
     "name": "stdout",
     "output_type": "stream",
     "text": [
      "images: 440\n",
      "bb: 12082\n",
      "avg per img: 27.45909090909091\n",
      "\n",
      "    class_id  occurrence\n",
      "0          0        1181\n",
      "1          1         198\n",
      "2          2        1642\n",
      "3          3         946\n",
      "4          4          21\n",
      "5          5         177\n",
      "6          6         223\n",
      "7          7        5663\n",
      "8          8          90\n",
      "9          9        1691\n",
      "10        10         139\n",
      "11        11          19\n",
      "12        12          92\n"
     ]
    }
   ],
   "source": [
    "print('images:', len(data['images']))\n",
    "print('bb:', len(data['annotations']))\n",
    "print('avg per img:', len(data['annotations'])/len(data['images']))\n",
    "print()\n",
    "df = pd.DataFrame({\n",
    "    'class_id': list(bb_cls_all.keys()),\n",
    "    'occurrence': list(bb_cls_all.values())\n",
    "    })\n",
    "     \n",
    "print(df)"
   ]
  },
  {
   "cell_type": "code",
   "execution_count": 43,
   "metadata": {},
   "outputs": [
    {
     "name": "stdout",
     "output_type": "stream",
     "text": [
      "[118, 20, 164, 95, 2, 18, 22, 566, 9, 169, 14, 2, 9]\n",
      "44\n"
     ]
    }
   ],
   "source": [
    "# vypocet kolik instanci ma byt ve validacnim setu\n",
    "val_coef = 0.10\n",
    "val_img_num = int(len(data['images'])*val_coef)\n",
    "val_cls_num = [int(round(i * val_coef)) for i in list(bb_cls_all.values())]\n",
    "\n",
    "print(val_cls_num)\n",
    "print(val_img_num)"
   ]
  },
  {
   "cell_type": "code",
   "execution_count": 44,
   "metadata": {},
   "outputs": [
    {
     "name": "stdout",
     "output_type": "stream",
     "text": [
      "69\n",
      "[inf, inf, inf, inf, inf, inf, inf, inf, inf, inf, inf, inf, inf]\n"
     ]
    }
   ],
   "source": [
    "# rozdeleni obrazku\n",
    "images_val = dict()\n",
    "images_train = copy.deepcopy(images_all)\n",
    "\n",
    "\n",
    "while(True):\n",
    "    min_i = np.argmin(val_cls_num)\n",
    "    min_n = np.min(val_cls_num)\n",
    "    if(min_n <= 0):\n",
    "        val_cls_num[min_i] = float('Inf')\n",
    "    if(min_n == float('Inf')):\n",
    "        break\n",
    "\n",
    "    for img in images_train:\n",
    "        if min_i in images_train[img]:\n",
    "            val = images_train.pop(img)\n",
    "            images_val.update({img: val})\n",
    "            for k in val:\n",
    "                val_cls_num[k] -= 1\n",
    "            break\n",
    "    \n",
    "print(len(images_val))\n",
    "print(val_cls_num)"
   ]
  },
  {
   "cell_type": "code",
   "execution_count": 45,
   "metadata": {},
   "outputs": [],
   "source": [
    "# pocet instanci v jednotlivich mnozinach\n",
    "bb_cls_val = dict.fromkeys(tuple(range(13)), 0) \n",
    "for img in images_val:\n",
    "    for cls in images_val[img]:\n",
    "        bb_cls_val[cls] += 1\n",
    "        \n",
    "bb_cls_train = dict.fromkeys(tuple(range(13)), 0) \n",
    "for img in images_train:\n",
    "    for cls in images_train[img]:\n",
    "        bb_cls_train[cls] += 1"
   ]
  },
  {
   "cell_type": "code",
   "execution_count": 46,
   "metadata": {},
   "outputs": [
    {
     "name": "stdout",
     "output_type": "stream",
     "text": [
      "class_id  occurrence_all  occurrence_train  train [%]  occurrence_val  val [%]\n",
      "       0            1181               893         76             288       24\n",
      "       1             198               172         87              26       13\n",
      "       2            1642              1364         83             278       17\n",
      "       3             946               816         86             130       14\n",
      "       4              21                18         86               3       14\n",
      "       5             177               153         86              24       14\n",
      "       6             223               179         80              44       20\n",
      "       7            5663              4459         79            1204       21\n",
      "       8              90                79         88              11       12\n",
      "       9            1691              1514         90             177       10\n",
      "      10             139               107         77              32       23\n",
      "      11              19                16         84               3       16\n",
      "      12              92                78         85              14       15\n"
     ]
    }
   ],
   "source": [
    "df = pd.DataFrame({\n",
    "    'class_id': list(bb_cls_all.keys()),\n",
    "    'occurrence_all': list(bb_cls_all.values()),\n",
    "    'occurrence_train': list(bb_cls_train.values()),\n",
    "    'train [%]' : [round(x/y * 100) for x, y in zip(list(bb_cls_train.values()), list(bb_cls_all.values()))],\n",
    "    'occurrence_val': list(bb_cls_val.values()),\n",
    "    'val [%]' : [round(x/y * 100) for x, y in zip(list(bb_cls_val.values()), list(bb_cls_all.values()))]\n",
    "    })\n",
    "     \n",
    "print(df.to_string(index=False))"
   ]
  },
  {
   "cell_type": "code",
   "execution_count": 47,
   "metadata": {},
   "outputs": [],
   "source": [
    "val_id = list(images_val.keys())\n",
    "val_id.sort()\n",
    "train_id = list(images_train.keys())\n",
    "train_id.sort()\n",
    "\n",
    "annot_val = {'images': [], 'categories': [], 'annotations': []}\n",
    "annot_train = {'images': [], 'categories': [], 'annotations': []}"
   ]
  },
  {
   "cell_type": "code",
   "execution_count": 48,
   "metadata": {},
   "outputs": [],
   "source": [
    "for img in data['images']:\n",
    "    if img['id'] in val_id:\n",
    "        annot_val['images'].append(img)\n",
    "    else:\n",
    "        annot_train['images'].append(img)\n",
    "        \n",
    "for an in data['annotations']:\n",
    "    if an['image_id'] in val_id:\n",
    "        annot_val['annotations'].append(an)\n",
    "    else:\n",
    "        annot_train['annotations'].append(an)"
   ]
  },
  {
   "cell_type": "code",
   "execution_count": 49,
   "metadata": {},
   "outputs": [],
   "source": [
    "with open('../CoralClef2020/annotations/validation_annot.json', 'w') as file:\n",
    "    json.dump(annot_val, file)\n",
    "    \n",
    "with open('../CoralClef2020/annotations/train_annot.json', 'w') as file:\n",
    "    json.dump(annot_train, file)"
   ]
  },
  {
   "cell_type": "markdown",
   "metadata": {},
   "source": [
    "## rozdeleni augmentovanych dat"
   ]
  },
  {
   "cell_type": "code",
   "execution_count": null,
   "metadata": {},
   "outputs": [],
   "source": [
    "with open(augmented_annotation_path) as json_file:\n",
    "    augment = json.load(json_file)"
   ]
  },
  {
   "cell_type": "code",
   "execution_count": null,
   "metadata": {},
   "outputs": [],
   "source": [
    "annot_augment_train = {'images' : [], 'annotations' : []}\n",
    "annot_augment_val = {'images' : [], 'annotations' : []}\n",
    "\n",
    "for a in annot_val['images']:\n",
    "    name = a['file_name'].split('.')[0]\n",
    "    for au in augment['images']:\n",
    "        name2 = au['file_name'].split('.')[0]\n",
    "        id_img = au['id']\n",
    "        if re.findall(name, name2):\n",
    "            annot_augment_val['images'].append(au)\n",
    "            for an in augment['annotations']:\n",
    "                if(id_img == an['image_id']):\n",
    "                    annot_augment_val['annotations'].append(an)\n",
    "    \n",
    "for a in annot_train['images']:\n",
    "    name = a['file_name'].split('.')[0]\n",
    "    for au in augment['images']:\n",
    "        name2 = au['file_name'].split('.')[0]\n",
    "        id_img = au['id']\n",
    "        if re.findall(name, name2):\n",
    "            annot_augment_train['images'].append(au)\n",
    "            for an in augment['annotations']:\n",
    "                if(id_img == an['image_id']):\n",
    "                    annot_augment_train['annotations'].append(an)    \n",
    "\n",
    "annot_val = annot_augment_val\n",
    "annot_train = annot_augment_train"
   ]
  },
  {
   "cell_type": "code",
   "execution_count": null,
   "metadata": {},
   "outputs": [],
   "source": [
    "types_of_substrates = ['c_hard_coral_branching', 'c_hard_coral_submassive', 'c_hard_coral_boulder',\n",
    "                       'c_hard_coral_encrusting', 'c_hard_coral_table', 'c_hard_coral_foliose', 'c_hard_coral_mushroom',\n",
    "                       'c_soft_coral', 'c_soft_coral_gorgonian', 'c_sponge', 'c_sponge_barrel', 'c_fire_coral_millepora',\n",
    "                       'c_algae_macro_or_leaves']\n",
    "\n",
    "annot_val.update({'categories': []})\n",
    "annot_train.update({'categories': []})\n",
    "k = 0\n",
    "for c in types_of_substrates:\n",
    "    annot_val['categories'].append({\"supercategory\": c,\"id\": k,\"name\": c})\n",
    "    annot_train['categories'].append({\"supercategory\": c,\"id\": k,\"name\": c})\n",
    "    k = k + 1\n",
    "\n",
    "\n",
    "for a in annot_val['annotations']:\n",
    "    a['bbox'][0] = int(a['bbox'][0])\n",
    "    a['bbox'][1] = int(a['bbox'][1])\n",
    "    a['bbox'][2] = int(a['bbox'][2])\n",
    "    a['bbox'][3] = int(a['bbox'][3])\n",
    "    \n",
    "for a in annot_train['annotations']:\n",
    "    a['bbox'][0] = int(a['bbox'][0])\n",
    "    a['bbox'][1] = int(a['bbox'][1])\n",
    "    a['bbox'][2] = int(a['bbox'][2])\n",
    "    a['bbox'][3] = int(a['bbox'][3])"
   ]
  },
  {
   "cell_type": "code",
   "execution_count": 51,
   "metadata": {},
   "outputs": [],
   "source": [
    "with open('../CoralClef2020/annotations/validation_annot_aug.json', 'w') as file:\n",
    "    json.dump(annot_val, file)\n",
    "    \n",
    "with open('../CoralClef2020/annotations/train_annot_aug.json', 'w') as file:\n",
    "    json.dump(annot_train, file)"
   ]
  },
  {
   "cell_type": "code",
   "execution_count": null,
   "metadata": {},
   "outputs": [],
   "source": []
  }
 ],
 "metadata": {
  "kernelspec": {
   "display_name": "Python 3",
   "language": "python",
   "name": "python3"
  },
  "language_info": {
   "codemirror_mode": {
    "name": "ipython",
    "version": 3
   },
   "file_extension": ".py",
   "mimetype": "text/x-python",
   "name": "python",
   "nbconvert_exporter": "python",
   "pygments_lexer": "ipython3",
   "version": "3.7.1"
  }
 },
 "nbformat": 4,
 "nbformat_minor": 2
}
