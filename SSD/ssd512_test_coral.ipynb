{
 "cells": [
  {
   "cell_type": "markdown",
   "metadata": {},
   "source": [
    "# SSD512 Test"
   ]
  },
  {
   "cell_type": "code",
   "execution_count": 7,
   "metadata": {},
   "outputs": [],
   "source": [
    "import tensorflow as tf\n",
    "import os\n",
    "from keras import backend as K\n",
    "from keras.models import load_model\n",
    "from keras.optimizers import Adam\n",
    "from scipy.misc import imread\n",
    "import numpy as np\n",
    "from matplotlib import pyplot as plt\n",
    "from PIL import Image\n",
    "import copy\n",
    "from models.keras_ssd512 import ssd_512\n",
    "from keras_loss_function.keras_ssd_loss import SSDLoss\n",
    "from keras_layers.keras_layer_AnchorBoxes import AnchorBoxes\n",
    "from keras_layers.keras_layer_DecodeDetections import DecodeDetections\n",
    "from keras_layers.keras_layer_DecodeDetectionsFast import DecodeDetectionsFast\n",
    "from keras_layers.keras_layer_L2Normalization import L2Normalization\n",
    "from data_generator.object_detection_2d_data_generator import DataGenerator\n",
    "from eval_utils.average_precision_evaluator import Evaluator\n",
    "\n",
    "from ssd_encoder_decoder.ssd_output_decoder import decode_detections, decode_detections_fast\n",
    "\n",
    "from data_generator.object_detection_2d_data_generator import DataGenerator\n",
    "from data_generator.object_detection_2d_photometric_ops import ConvertTo3Channels\n",
    "from data_generator.object_detection_2d_geometric_ops import Resize\n",
    "from data_generator.object_detection_2d_misc_utils import apply_inverse_transforms\n",
    "\n",
    "%matplotlib inline"
   ]
  },
  {
   "cell_type": "code",
   "execution_count": 2,
   "metadata": {},
   "outputs": [],
   "source": [
    "# Set a few configuration parameters.\n",
    "img_height = 512\n",
    "img_width = 512\n",
    "n_classes = 13\n",
    "model_mode = 'inference'\n",
    "K.clear_session()"
   ]
  },
  {
   "cell_type": "code",
   "execution_count": 3,
   "metadata": {},
   "outputs": [
    {
     "name": "stdout",
     "output_type": "stream",
     "text": [
      "WARNING:tensorflow:From D:\\Programy\\Anaconda3\\lib\\site-packages\\tensorflow\\python\\framework\\op_def_library.py:263: colocate_with (from tensorflow.python.framework.ops) is deprecated and will be removed in a future version.\n",
      "Instructions for updating:\n",
      "Colocations handled automatically by placer.\n",
      "WARNING:tensorflow:From C:\\Users\\DOMA\\Dropbox\\FAV_3_2\\BP\\_GITHUB\\SSD\\keras_layers\\keras_layer_DecodeDetections.py:174: to_float (from tensorflow.python.ops.math_ops) is deprecated and will be removed in a future version.\n",
      "Instructions for updating:\n",
      "Use tf.cast instead.\n",
      "WARNING:tensorflow:From C:\\Users\\DOMA\\Dropbox\\FAV_3_2\\BP\\_GITHUB\\SSD\\keras_loss_function\\keras_ssd_loss.py:166: to_int32 (from tensorflow.python.ops.math_ops) is deprecated and will be removed in a future version.\n",
      "Instructions for updating:\n",
      "Use tf.cast instead.\n"
     ]
    }
   ],
   "source": [
    "K.clear_session() \n",
    "\n",
    "#nastaveni modelu a nacteni vah\n",
    "model = ssd_512(image_size=(img_height, img_width, 3),\n",
    "                n_classes=n_classes,\n",
    "                mode=model_mode,\n",
    "                l2_regularization=0.0005,\n",
    "                scales=[0.07, 0.15, 0.3, 0.45, 0.6, 0.75, 0.9, 1.05], # The scales for MS COCO are [0.04, 0.1, 0.26, 0.42, 0.58, 0.74, 0.9, 1.06]\n",
    "                aspect_ratios_per_layer=[[1.0, 2.0, 0.5],\n",
    "                                         [1.0, 2.0, 0.5, 3.0, 1.0/3.0],\n",
    "                                         [1.0, 2.0, 0.5, 3.0, 1.0/3.0],\n",
    "                                         [1.0, 2.0, 0.5, 3.0, 1.0/3.0],\n",
    "                                         [1.0, 2.0, 0.5, 3.0, 1.0/3.0],\n",
    "                                         [1.0, 2.0, 0.5],\n",
    "                                         [1.0, 2.0, 0.5]],\n",
    "               two_boxes_for_ar1=True,\n",
    "               steps=[8, 16, 32, 64, 128, 256, 512],\n",
    "               offsets=[0.5, 0.5, 0.5, 0.5, 0.5, 0.5, 0.5],\n",
    "               clip_boxes=False,\n",
    "               variances=[0.1, 0.1, 0.2, 0.2],\n",
    "               normalize_coords=True,\n",
    "               subtract_mean=[123, 117, 104],\n",
    "               swap_channels=[2, 1, 0],\n",
    "               confidence_thresh=0.2,\n",
    "               iou_threshold=0.45,\n",
    "               top_k=200,\n",
    "               nms_max_output_size=400)\n",
    "\n",
    "\n",
    "\n",
    "weights_path = 'training_summaries/ssd512/ssd512_coralclef2020_epoch-200.h5'\n",
    "\n",
    "model.load_weights(weights_path, by_name=True)\n",
    "\n",
    "\n",
    "adam = Adam(lr=0.001, beta_1=0.9, beta_2=0.999, epsilon=1e-08, decay=0.0)\n",
    "\n",
    "ssd_loss = SSDLoss(neg_pos_ratio=3, alpha=1.0)\n",
    "\n",
    "model.compile(optimizer=adam, loss=ssd_loss.compute_loss)"
   ]
  },
  {
   "cell_type": "code",
   "execution_count": 4,
   "metadata": {},
   "outputs": [
    {
     "name": "stdout",
     "output_type": "stream",
     "text": [
      "Pocet testovacich obrazku: 400\n"
     ]
    }
   ],
   "source": [
    "test_path = '../CoralClef2020/imageCLEFcoral2020_test_v4/'\n",
    "img_names = os.listdir(test_path)\n",
    "print('Pocet testovacich obrazku:', len(img_names))\n",
    "resize = Resize(height=img_height, width=img_width)"
   ]
  },
  {
   "cell_type": "code",
   "execution_count": 5,
   "metadata": {},
   "outputs": [],
   "source": [
    "classes = ['BG','c_hard_coral_branching', 'c_hard_coral_submassive', 'c_hard_coral_boulder',\n",
    "           'c_hard_coral_encrusting', 'c_hard_coral_table', 'c_hard_coral_foliose', 'c_hard_coral_mushroom',\n",
    "           'c_soft_coral', 'c_soft_coral_gorgonian', 'c_sponge', 'c_sponge_barrel', 'c_fire_coral_millepora',\n",
    "           'c_algae_macro_or_leaves']"
   ]
  },
  {
   "cell_type": "code",
   "execution_count": null,
   "metadata": {
    "scrolled": true
   },
   "outputs": [
    {
     "name": "stdout",
     "output_type": "stream",
     "text": [
      "  0/400 [..............................] - ETA: 0s0.5\n",
      "  1/400 [..............................] - ETA: 2:040.5\n",
      "  2/400 [..............................] - ETA: 2:050.5\n",
      "  3/400 [..............................] - ETA: 2:070.5\n",
      "  4/400 [..............................] - ETA: 2:080.5\n",
      "  5/400 [..............................] - ETA: 2:090.4\n",
      "  6/400 [..............................] - ETA: 2:080.5\n",
      "  7/400 [..............................] - ETA: 2:070.5\n",
      "  8/400 [..............................] - ETA: 2:070.5\n",
      "  9/400 [..............................] - ETA: 2:070.5\n",
      " 10/400 [..............................] - ETA: 2:070.5\n",
      " 11/400 [..............................] - ETA: 2:070.5\n",
      " 12/400 [..............................] - ETA: 2:060.5\n",
      " 13/400 [..............................] - ETA: 2:060.5\n",
      " 14/400 [>.............................] - ETA: 2:060.4\n",
      " 15/400 [>.............................] - ETA: 2:060.5\n",
      " 16/400 [>.............................] - ETA: 2:060.5\n",
      " 17/400 [>.............................] - ETA: 2:060.5\n",
      " 18/400 [>.............................] - ETA: 2:060.5\n",
      " 19/400 [>.............................] - ETA: 2:060.5\n",
      " 20/400 [>.............................] - ETA: 2:050.5\n",
      " 21/400 [>.............................] - ETA: 2:050.5\n",
      " 22/400 [>.............................] - ETA: 2:050.5\n",
      " 23/400 [>.............................] - ETA: 2:040.5\n",
      " 24/400 [>.............................] - ETA: 2:040.5\n",
      " 25/400 [>.............................] - ETA: 2:040.5\n",
      " 26/400 [>.............................] - ETA: 2:030.5\n",
      " 27/400 [=>............................] - ETA: 2:030.5\n",
      " 28/400 [=>............................] - ETA: 2:020.5\n",
      " 29/400 [=>............................] - ETA: 2:020.5\n",
      " 30/400 [=>............................] - ETA: 2:010.5\n",
      " 31/400 [=>............................] - ETA: 2:010.5\n",
      " 32/400 [=>............................] - ETA: 2:010.5\n",
      " 33/400 [=>............................] - ETA: 2:010.5\n",
      " 34/400 [=>............................] - ETA: 2:000.5\n",
      " 35/400 [=>............................] - ETA: 2:000.5\n",
      " 36/400 [=>............................] - ETA: 1:590.5\n",
      " 37/400 [=>............................] - ETA: 1:590.5\n",
      " 38/400 [=>............................] - ETA: 1:590.5\n",
      " 39/400 [=>............................] - ETA: 1:58"
     ]
    }
   ],
   "source": [
    "data = []\n",
    "\n",
    "progbar = tf.keras.utils.Progbar(len(img_names))\n",
    "k = 0\n",
    "\n",
    "for img_name in img_names:\n",
    "    progbar.update(k)\n",
    "    # nacteni obrazku\n",
    "    filename = img_name\n",
    "    \n",
    "    img = np.array(Image.open(test_path + filename), dtype=np.uint8) \n",
    "    img2  = resize(img)\n",
    "    images = img2.reshape([1,512,512,3])\n",
    "\n",
    "    # detekce\n",
    "    y_pred = model.predict(images)\n",
    "    confidence_threshold = 0.5\n",
    "    y_pred_thresh = [y_pred[k][y_pred[k,:,1] > confidence_threshold] for k in range(y_pred.shape[0])]\n",
    "    \n",
    "    # pro odevzdani je potreba pro kazdy obrazek detekovat alespon jeden bbox\n",
    "    # pokud nebyl detekovan zadny bbox s hodnotou confidence_threshold >= 0.5\n",
    "    # snizujeme confidence_threshold dokud neziskame bbox\n",
    "    while(y_pred_thresh[0].shape[0] == 0):\n",
    "        confidence_threshold = confidence_threshold - 0.1\n",
    "        y_pred_thresh = [y_pred[k][y_pred[k,:,1] > confidence_threshold] for k in range(y_pred.shape[0])]\n",
    "        if confidence_threshold <= 0.2:\n",
    "            break\n",
    "    print(confidence_threshold)\n",
    "    \n",
    "    # zmena velikosti ramecku\n",
    "    y_pred_resized = copy.deepcopy(y_pred_thresh)\n",
    "    for r in y_pred_resized[0]:\n",
    "        r[2] = r[2] * (img.shape[1]/img_width)\n",
    "        r[3] = r[3] * (img.shape[0]/img_height)\n",
    "        r[4] = r[4] * (img.shape[1]/img_width)\n",
    "        r[5] = r[5] * (img.shape[0]/img_height)\n",
    "        \n",
    "    # konverze dat do pozadovaneho formatu\n",
    "    row = convert_data(filename, y_pred_resized)\n",
    "    data.append(row)\n",
    "    \n",
    "    k = k + 1"
   ]
  },
  {
   "cell_type": "code",
   "execution_count": 54,
   "metadata": {},
   "outputs": [],
   "source": [
    "with open('test_SSD.txt','w') as f:\n",
    "    f.write('\\n'.join(data))"
   ]
  },
  {
   "cell_type": "code",
   "execution_count": 10,
   "metadata": {},
   "outputs": [],
   "source": [
    "def convert_data(filename, y_pred_resized):\n",
    "    bbox_data = {}\n",
    "    for box in y_pred_resized[0]:\n",
    "        class_id = box[0]\n",
    "        class_name = classes[int(class_id)]\n",
    "        confidence = round(box[1],1)\n",
    "        xmin = int(box[2])\n",
    "        ymin = int(box[3])\n",
    "        xmax = int(box[4])\n",
    "        ymax = int(box[5])\n",
    "        if(xmin < 0):\n",
    "            xmin = 0\n",
    "        if(ymin < 0):\n",
    "            ymin = 0\n",
    "        if(ymax > 3024):\n",
    "            ymax = 3024\n",
    "        if(xmax > 4032):\n",
    "            xmax = 4032\n",
    "        width = xmax - xmin\n",
    "        height = ymax - ymin\n",
    "\n",
    "\n",
    "        if(class_name not in bbox_data.keys()):\n",
    "            bbox_data.update({class_name:[[confidence,width,height,xmin,ymin]]})\n",
    "        else:\n",
    "            bbox_data[class_name].append([confidence,width,height,xmin,ymin])\n",
    "\n",
    "    row = filename.split('.')[0] + ';'\n",
    "    k = 1\n",
    "    for c in bbox_data.keys():\n",
    "        row = row + c + ' '\n",
    "        i = 1\n",
    "        for b in bbox_data[c]:\n",
    "            if(i < len(bbox_data[c])):\n",
    "                row = row + '{:.1f}:{}x{}+{}+{},'.format(b[0], b[1], b[2], b[3], b[4])\n",
    "                i = i + 1\n",
    "            else:\n",
    "                row = row + '{:.1f}:{}x{}+{}+{}'.format(b[0], b[1], b[2], b[3], b[4])\n",
    "        if(k < len(bbox_data.keys())):\n",
    "            row = row + ';'\n",
    "            k = k + 1\n",
    "    return row"
   ]
  },
  {
   "cell_type": "code",
   "execution_count": null,
   "metadata": {},
   "outputs": [],
   "source": []
  }
 ],
 "metadata": {
  "kernelspec": {
   "display_name": "Python 3",
   "language": "python",
   "name": "python3"
  },
  "language_info": {
   "codemirror_mode": {
    "name": "ipython",
    "version": 3
   },
   "file_extension": ".py",
   "mimetype": "text/x-python",
   "name": "python",
   "nbconvert_exporter": "python",
   "pygments_lexer": "ipython3",
   "version": "3.7.1"
  }
 },
 "nbformat": 4,
 "nbformat_minor": 2
}
